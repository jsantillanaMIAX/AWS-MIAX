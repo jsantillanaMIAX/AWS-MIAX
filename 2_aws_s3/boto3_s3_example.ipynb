{
 "cells": [
  {
   "cell_type": "code",
   "execution_count": null,
   "id": "a609890a-6e3c-4811-bf13-d6335d3b5b86",
   "metadata": {
    "tags": []
   },
   "outputs": [],
   "source": [
    "import boto3"
   ]
  },
  {
   "cell_type": "code",
   "execution_count": null,
   "id": "29af1e31-baf7-4935-8939-bc39188c4de0",
   "metadata": {
    "tags": []
   },
   "outputs": [],
   "source": [
    "s3_client = boto3.client('s3')"
   ]
  },
  {
   "cell_type": "code",
   "execution_count": null,
   "id": "03e29052-1fb8-4bd1-b0f4-34b680dd703b",
   "metadata": {
    "tags": []
   },
   "outputs": [],
   "source": [
    "## To cretate a bucket\n",
    "location = {\n",
    "    'LocationConstraint': 'eu-west-3'\n",
    "}\n",
    "bucket_name = \"testmiax10new\"\n",
    "s3_client.create_bucket(\n",
    "    Bucket=bucket_name,\n",
    "    CreateBucketConfiguration=location\n",
    ")"
   ]
  },
  {
   "cell_type": "code",
   "execution_count": null,
   "id": "3c9a10f8-795b-4c03-80c3-66677636d0c5",
   "metadata": {
    "tags": []
   },
   "outputs": [],
   "source": [
    "response = s3_client.list_buckets()\n",
    "for bucket in response['Buckets']:\n",
    "    print(f'  {bucket[\"Name\"]}')"
   ]
  },
  {
   "cell_type": "code",
   "execution_count": null,
   "id": "e8d5d3ee-e1e2-4ba3-bcac-e3cc368bb498",
   "metadata": {
    "tags": []
   },
   "outputs": [],
   "source": [
    "## List files\n",
    "response = s3_client.list_objects_v2(\n",
    "    Bucket=bucket_name\n",
    ")\n",
    "for content in response.get('Contents', []):\n",
    "    print(content['Key'])"
   ]
  },
  {
   "cell_type": "markdown",
   "id": "f87480dc-d0bf-43f8-b286-af490a9a345e",
   "metadata": {
    "tags": []
   },
   "source": [
    "### WITH BOTO3"
   ]
  },
  {
   "cell_type": "code",
   "execution_count": null,
   "id": "fa7fa7ee-b8d6-45da-954e-d461604b150c",
   "metadata": {
    "tags": []
   },
   "outputs": [],
   "source": [
    "s3_client.upload_file(\n",
    "    \"market_data/market_data.txt\",\n",
    "    bucket_name, \n",
    "    \"market_data.txt\"\n",
    ")"
   ]
  },
  {
   "cell_type": "code",
   "execution_count": null,
   "id": "58ffd8b3-7c37-469f-940c-06d0500f9169",
   "metadata": {
    "tags": []
   },
   "outputs": [],
   "source": [
    "s3_client.download_file(\n",
    "    bucket_name, \n",
    "    \"market_data.txt\",\n",
    "    \"download_1.txt\"\n",
    ")"
   ]
  },
  {
   "cell_type": "markdown",
   "id": "4dade8f5-9c35-420e-aaba-4671e5e41c14",
   "metadata": {},
   "source": [
    "## WITH PANDAS"
   ]
  },
  {
   "cell_type": "code",
   "execution_count": null,
   "id": "86539a13-61df-4f49-b3e8-40f7f0fb66a9",
   "metadata": {
    "tags": []
   },
   "outputs": [],
   "source": [
    "## Necesitamos instalar las siguientes libs:\n",
    "pip install fsspec s3fs"
   ]
  },
  {
   "cell_type": "code",
   "execution_count": null,
   "id": "af9f1836-9ae3-40fd-a268-6ed67e1dedd5",
   "metadata": {
    "tags": []
   },
   "outputs": [],
   "source": [
    "import pandas as pd"
   ]
  },
  {
   "cell_type": "code",
   "execution_count": null,
   "id": "d705e3b3-0fb0-4a74-ae9a-384a590b84f8",
   "metadata": {
    "tags": []
   },
   "outputs": [],
   "source": [
    "df = pd.read_csv(f\"s3://{bucket_name}/market_data.txt\", sep=\";\")"
   ]
  },
  {
   "cell_type": "code",
   "execution_count": null,
   "id": "d7390195-22a5-4d9e-a2da-104c03c14345",
   "metadata": {
    "tags": []
   },
   "outputs": [],
   "source": [
    "df"
   ]
  },
  {
   "cell_type": "code",
   "execution_count": null,
   "id": "1253332e-b352-4725-9065-5dd2ecbb99b7",
   "metadata": {
    "tags": []
   },
   "outputs": [],
   "source": [
    "df = df.loc[:, ['FECHA', 'HORA', 'VALOR', 'PRECIO', 'VOLUMEN']]"
   ]
  },
  {
   "cell_type": "code",
   "execution_count": null,
   "id": "c03b1ace-6bc3-47bb-a2bd-36c4a5768101",
   "metadata": {
    "tags": []
   },
   "outputs": [],
   "source": [
    "df.to_csv(f\"s3://{bucket_name}/market_data_no_col.csv\")"
   ]
  }
 ],
 "metadata": {
  "kernelspec": {
   "display_name": "Python 3 (ipykernel)",
   "language": "python",
   "name": "python3"
  },
  "language_info": {
   "codemirror_mode": {
    "name": "ipython",
    "version": 3
   },
   "file_extension": ".py",
   "mimetype": "text/x-python",
   "name": "python",
   "nbconvert_exporter": "python",
   "pygments_lexer": "ipython3",
   "version": "3.10.9"
  }
 },
 "nbformat": 4,
 "nbformat_minor": 5
}
